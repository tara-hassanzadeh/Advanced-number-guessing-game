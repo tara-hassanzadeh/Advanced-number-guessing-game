{
  "nbformat": 4,
  "nbformat_minor": 0,
  "metadata": {
    "colab": {
      "provenance": [],
      "authorship_tag": "ABX9TyMroMjmD/FSQVQLl6SayBQv",
      "include_colab_link": true
    },
    "kernelspec": {
      "name": "python3",
      "display_name": "Python 3"
    },
    "language_info": {
      "name": "python"
    }
  },
  "cells": [
    {
      "cell_type": "markdown",
      "metadata": {
        "id": "view-in-github",
        "colab_type": "text"
      },
      "source": [
        "<a href=\"https://colab.research.google.com/github/tara-hassanzadeh/Advanced-number-guessing-game/blob/main/advanced_number_guessing_game.ipynb\" target=\"_parent\"><img src=\"https://colab.research.google.com/assets/colab-badge.svg\" alt=\"Open In Colab\"/></a>"
      ]
    },
    {
      "cell_type": "markdown",
      "source": [
        "Advanced number guessing game"
      ],
      "metadata": {
        "id": "dVggbA4uIg6m"
      }
    },
    {
      "cell_type": "code",
      "execution_count": 4,
      "metadata": {
        "colab": {
          "base_uri": "https://localhost:8080/"
        },
        "id": "5mF2yrqLIfmd",
        "outputId": "6889b4c1-7b59-4126-fb3d-ab3de1fdafe5"
      },
      "outputs": [
        {
          "output_type": "stream",
          "name": "stdout",
          "text": [
            "choose difficultyvlevel:\n",
            "1. Easy (1-50, 8 attemtps)\n",
            "2. Medium (1-100, 10 attempts)\n",
            "3. Hard (1-1000, 15 attempts)\n",
            "enter 1, 2,or 3:1\n",
            "\n",
            " I have picked a number between 1 and 50. Can you guess it?\n",
            "you have 8 attempts to guess it. Good luck!\n",
            "\n",
            "enter your guess:30\n",
            "too high! try again.\n",
            "enter your guess:20\n",
            "too low! try again.\n",
            "enter your guess:25\n",
            "too low! try again.\n",
            "enter your guess:28\n",
            "too low! try again.\n",
            "enter your guess:29\n",
            "Congratulations! you guessed the number 29 in 5 attempts.\n",
            "Do you want to play again? (y/n): y\n",
            "choose difficultyvlevel:\n",
            "1. Easy (1-50, 8 attemtps)\n",
            "2. Medium (1-100, 10 attempts)\n",
            "3. Hard (1-1000, 15 attempts)\n",
            "enter 1, 2,or 3:2\n",
            "\n",
            " I have picked a number between 1 and 100. Can you guess it?\n",
            "you have 10 attempts to guess it. Good luck!\n",
            "\n",
            "enter your guess:50\n",
            "too high! try again.\n",
            "enter your guess:40\n",
            "too high! try again.\n",
            "enter your guess:20\n",
            "too high! try again.\n",
            "enter your guess:10\n",
            "too high! try again.\n",
            "enter your guess:5\n",
            "too high! try again.\n",
            "enter your guess:2\n",
            "too high! try again.\n",
            "enter your guess:1\n",
            "Congratulations! you guessed the number 1 in 7 attempts.\n",
            "Do you want to play again? (y/n): y\n",
            "choose difficultyvlevel:\n",
            "1. Easy (1-50, 8 attemtps)\n",
            "2. Medium (1-100, 10 attempts)\n",
            "3. Hard (1-1000, 15 attempts)\n",
            "enter 1, 2,or 3:3\n",
            "\n",
            " I have picked a number between 1 and 1000. Can you guess it?\n",
            "you have 15 attempts to guess it. Good luck!\n",
            "\n",
            "enter your guess:500\n",
            "too high! try again.\n",
            "enter your guess:200\n",
            "too low! try again.\n",
            "enter your guess:300\n",
            "too high! try again.\n",
            "enter your guess:250\n",
            "too high! try again.\n",
            "enter your guess:240\n",
            "too low! try again.\n",
            "enter your guess:245\n",
            "too low! try again.\n",
            "enter your guess:248\n",
            "too low! try again.\n",
            "enter your guess:249\n",
            "Congratulations! you guessed the number 249 in 8 attempts.\n",
            "Do you want to play again? (y/n): n\n",
            "thanks for playing. Goodbye!\n"
          ]
        }
      ],
      "source": [
        "import random\n",
        "def choose_difficulty():\n",
        "  print(\"choose difficultyvlevel:\")\n",
        "  print(\"1. Easy (1-50, 8 attemtps)\")\n",
        "  print(\"2. Medium (1-100, 10 attempts)\")\n",
        "  print(\"3. Hard (1-1000, 15 attempts)\")\n",
        "  while True:\n",
        "    choice=input(\"enter 1, 2,or 3:\")\n",
        "    if choice=='1':\n",
        "      return 1, 50, 8\n",
        "    elif choice=='2':\n",
        "      return 1, 100, 10\n",
        "    elif choice=='3':\n",
        "      return 1, 1000, 15\n",
        "    else:\n",
        "      print(\"invalid choice, please enter 1, 2, or 3.\")\n",
        "def play_game():\n",
        "  low, high, max_attempts=choose_difficulty()\n",
        "  secret_number=random.randint(low, high)\n",
        "  attempts=0\n",
        "  print(f\"\\n I have picked a number between {low} and {high}. Can you guess it?\")\n",
        "  print(f\"you have {max_attempts} attempts to guess it. Good luck!\\n\")\n",
        "  while attempts<max_attempts:\n",
        "    try:\n",
        "      guess=int(input(\"enter your guess:\"))\n",
        "    except ValueError:\n",
        "      print(\"invalid input, please enter a number.\")\n",
        "      continue\n",
        "    attempts+=1\n",
        "    if guess < secret_number:\n",
        "      print(\"too low! try again.\")\n",
        "    elif guess > secret_number:\n",
        "      print(\"too high! try again.\")\n",
        "    else:\n",
        "      print(f\"Congratulations! you guessed the number {secret_number} in {attempts} attempts.\")\n",
        "      break\n",
        "  else:\n",
        "    print(f\"sorry, Game Over!. the number was {secret_number}.\")\n",
        "def main():\n",
        "  while True:\n",
        "    play_game()\n",
        "    again=input(\"Do you want to play again? (y/n): \").lower()\n",
        "    if again!='y':\n",
        "      print(\"thanks for playing. Goodbye!\")\n",
        "      break\n",
        "if __name__=='__main__':\n",
        "  main()"
      ]
    }
  ]
}